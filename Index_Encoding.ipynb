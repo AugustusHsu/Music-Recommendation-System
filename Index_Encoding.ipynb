{
 "cells": [
  {
   "cell_type": "code",
   "execution_count": 1,
   "metadata": {},
   "outputs": [],
   "source": [
    "import numpy as np\n",
    "import tqdm\n",
    "import pickle\n",
    "import os\n",
    "\n",
    "data_dir = './data/'\n",
    "model_dir = './model/'\n",
    "if not os.path.exists(model_dir):\n",
    "    os.mkdir(model_dir)"
   ]
  },
  {
   "cell_type": "code",
   "execution_count": 2,
   "metadata": {},
   "outputs": [],
   "source": [
    "#load\n",
    "with open(data_dir + 'OK_unique_song.pkl', 'rb') as f:\n",
    "    temp_song = pickle.load(f)\n",
    "    unique_song = []\n",
    "    for song in temp_song:\n",
    "        artist = song[0]\n",
    "        track = song[1]\n",
    "        unique_song.append(artist+track)\n",
    "    unique_song = np.array(unique_song)\n",
    "#load\n",
    "with open(data_dir + 'OK_unique_tag.pkl', 'rb') as f:\n",
    "    unique_tag = pickle.load(f)\n",
    "    unique_tag = np.array(unique_tag)"
   ]
  },
  {
   "cell_type": "code",
   "execution_count": 3,
   "metadata": {},
   "outputs": [],
   "source": [
    "#load\n",
    "with open(data_dir + 'OK_Song_Data.pkl', 'rb') as f:\n",
    "    OK_Song_Data = pickle.load(f)\n",
    "#load\n",
    "with open(data_dir + 'OK_Tag_Data.pkl', 'rb') as f:\n",
    "    OK_Tag_Data = pickle.load(f)"
   ]
  },
  {
   "cell_type": "code",
   "execution_count": 12,
   "metadata": {},
   "outputs": [
    {
     "data": {
      "text/plain": [
       "['Sigur Rós', 'Gobbledigook']"
      ]
     },
     "execution_count": 12,
     "metadata": {},
     "output_type": "execute_result"
    }
   ],
   "source": [
    "OK_Song_Data[0][0]"
   ]
  },
  {
   "cell_type": "code",
   "execution_count": 4,
   "metadata": {},
   "outputs": [
    {
     "name": "stderr",
     "output_type": "stream",
     "text": [
      "100%|█████████████████████████████████████████████████████████████████████████| 457051/457051 [16:39<00:00, 457.11it/s]\n"
     ]
    },
    {
     "name": "stdout",
     "output_type": "stream",
     "text": [
      "(457051, 6, 3)\n"
     ]
    }
   ],
   "source": [
    "idx_Tag = []\n",
    "for data in tqdm.tqdm(OK_Tag_Data):\n",
    "    idx_Tag.append([])\n",
    "    for song in data:\n",
    "        temp = []\n",
    "        for tag in song:\n",
    "            idx = np.where(unique_tag == tag)[0][0]\n",
    "            temp.append(idx)\n",
    "            #print(idx)\n",
    "        idx_Tag[len(idx_Tag)-1].append(temp)\n",
    "print(np.array(idx_Tag).shape)"
   ]
  },
  {
   "cell_type": "code",
   "execution_count": 6,
   "metadata": {},
   "outputs": [
    {
     "name": "stderr",
     "output_type": "stream",
     "text": [
      "100%|████████████████████████████████████████████████████████████████████████| 457051/457051 [2:01:26<00:00, 62.73it/s]\n"
     ]
    },
    {
     "name": "stdout",
     "output_type": "stream",
     "text": [
      "(457051, 6)\n"
     ]
    }
   ],
   "source": [
    "idx_Song = []\n",
    "for data in tqdm.tqdm(OK_Song_Data):\n",
    "    idx_Song.append([])\n",
    "    for log in data:\n",
    "        song = log[0] + log[1]\n",
    "        #print(song)\n",
    "        idx = np.where(unique_song == song)[0][0]\n",
    "        idx_Song[len(idx_Song)-1].append(idx)\n",
    "        #print(idx)\n",
    "print(np.array(idx_Song).shape)"
   ]
  },
  {
   "cell_type": "code",
   "execution_count": 7,
   "metadata": {},
   "outputs": [],
   "source": [
    "np.save(data_dir + 'idx_Song.npy', idx_Song)\n",
    "np.save(data_dir + 'idx_Tag.npy', idx_Tag)"
   ]
  },
  {
   "cell_type": "code",
   "execution_count": null,
   "metadata": {},
   "outputs": [],
   "source": []
  },
  {
   "cell_type": "code",
   "execution_count": null,
   "metadata": {},
   "outputs": [],
   "source": []
  },
  {
   "cell_type": "code",
   "execution_count": null,
   "metadata": {},
   "outputs": [],
   "source": []
  },
  {
   "cell_type": "code",
   "execution_count": null,
   "metadata": {},
   "outputs": [],
   "source": [
    "OK_Song_Data = np.array(OK_Song_Data)\n",
    "np.save(OK_Song_Data, data_dir + 'SongData_Atention.py')\n",
    "TagData = np.array(TagData)\n",
    "np.save(TagData, data_dir + 'TagData_Atention.py')"
   ]
  }
 ],
 "metadata": {
  "kernelspec": {
   "display_name": "Python 3",
   "language": "python",
   "name": "python3"
  },
  "language_info": {
   "codemirror_mode": {
    "name": "ipython",
    "version": 3
   },
   "file_extension": ".py",
   "mimetype": "text/x-python",
   "name": "python",
   "nbconvert_exporter": "python",
   "pygments_lexer": "ipython3",
   "version": "3.6.8"
  }
 },
 "nbformat": 4,
 "nbformat_minor": 2
}
