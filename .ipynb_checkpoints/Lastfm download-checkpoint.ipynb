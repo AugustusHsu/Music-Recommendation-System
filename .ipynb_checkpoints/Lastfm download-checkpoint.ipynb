{
 "cells": [
  {
   "cell_type": "code",
   "execution_count": 1,
   "metadata": {},
   "outputs": [],
   "source": [
    "import wget\n",
    "import tarfile\n",
    "import shutil\n",
    "import os\n",
    "\n",
    "data_dir = './data/'\n",
    "if not os.path.isdir(data_dir):\n",
    "    os.mkdir(data_dir)\n",
    "\n",
    "url = 'http://mtg.upf.edu/static/datasets/last.fm/lastfm-dataset-1K.tar.gz'"
   ]
  },
  {
   "cell_type": "code",
   "execution_count": 3,
   "metadata": {},
   "outputs": [
    {
     "name": "stdout",
     "output_type": "stream",
     "text": [
      "100% [......................................................................] 672741554 / 672741554"
     ]
    },
    {
     "data": {
      "text/plain": [
       "'data//lastfm-dataset-1K.tar.gz'"
      ]
     },
     "execution_count": 3,
     "metadata": {},
     "output_type": "execute_result"
    }
   ],
   "source": [
    "wget.download(url, data_dir)"
   ]
  },
  {
   "cell_type": "code",
   "execution_count": 2,
   "metadata": {},
   "outputs": [],
   "source": [
    "tar_gz_file = 'lastfm-dataset-1K.tar.gz'\n",
    "path = data_dir + tar_gz_file\n",
    "\n",
    "with tarfile.open(path) as tf:\n",
    "    tf.extractall(data_dir)"
   ]
  },
  {
   "cell_type": "code",
   "execution_count": 3,
   "metadata": {},
   "outputs": [],
   "source": [
    "current_path = data_dir + tar_gz_file[:-7] + '/'\n",
    "\n",
    "file_list = os.listdir(current_path)\n",
    "\n",
    "for file_name in file_list:\n",
    "    if not file_name[:6] == 'README':\n",
    "        os.rename(current_path + file_name, data_dir + file_name)"
   ]
  },
  {
   "cell_type": "code",
   "execution_count": 4,
   "metadata": {},
   "outputs": [],
   "source": [
    "if os.path.exists(data_dir + tar_gz_file):\n",
    "    os.remove(data_dir + tar_gz_file)\n",
    "    \n",
    "if os.path.exists(current_path):\n",
    "    shutil.rmtree(current_path)"
   ]
  },
  {
   "cell_type": "code",
   "execution_count": null,
   "metadata": {},
   "outputs": [],
   "source": []
  }
 ],
 "metadata": {
  "kernelspec": {
   "display_name": "Python 3",
   "language": "python",
   "name": "python3"
  },
  "language_info": {
   "codemirror_mode": {
    "name": "ipython",
    "version": 3
   },
   "file_extension": ".py",
   "mimetype": "text/x-python",
   "name": "python",
   "nbconvert_exporter": "python",
   "pygments_lexer": "ipython3",
   "version": "3.6.4"
  }
 },
 "nbformat": 4,
 "nbformat_minor": 2
}
