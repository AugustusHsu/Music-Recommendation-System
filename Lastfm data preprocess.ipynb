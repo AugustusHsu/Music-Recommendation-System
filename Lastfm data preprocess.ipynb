{
 "cells": [
  {
   "cell_type": "code",
   "execution_count": 1,
   "metadata": {},
   "outputs": [],
   "source": [
    "import pandas as pd\n",
    "import numpy as np\n",
    "import tqdm\n",
    "import pickle\n",
    "from datetime import datetime, timedelta\n",
    "import os\n",
    "\n",
    "data_dir = './data/'\n",
    "file = 'userid-timestamp-artid-artname-traid-traname.tsv'"
   ]
  },
  {
   "cell_type": "code",
   "execution_count": 2,
   "metadata": {},
   "outputs": [
    {
     "name": "stderr",
     "output_type": "stream",
     "text": [
      "b'Skipping line 2120260: expected 6 fields, saw 8\\n'\n",
      "b'Skipping line 2446318: expected 6 fields, saw 8\\n'\n",
      "b'Skipping line 11141081: expected 6 fields, saw 8\\n'\n",
      "b'Skipping line 11152099: expected 6 fields, saw 12\\nSkipping line 11152402: expected 6 fields, saw 8\\n'\n",
      "b'Skipping line 11882087: expected 6 fields, saw 8\\n'\n",
      "b'Skipping line 12902539: expected 6 fields, saw 8\\nSkipping line 12935044: expected 6 fields, saw 8\\n'\n",
      "b'Skipping line 17589539: expected 6 fields, saw 8\\n'\n"
     ]
    },
    {
     "data": {
      "text/html": [
       "<div>\n",
       "<style scoped>\n",
       "    .dataframe tbody tr th:only-of-type {\n",
       "        vertical-align: middle;\n",
       "    }\n",
       "\n",
       "    .dataframe tbody tr th {\n",
       "        vertical-align: top;\n",
       "    }\n",
       "\n",
       "    .dataframe thead th {\n",
       "        text-align: right;\n",
       "    }\n",
       "</style>\n",
       "<table border=\"1\" class=\"dataframe\">\n",
       "  <thead>\n",
       "    <tr style=\"text-align: right;\">\n",
       "      <th></th>\n",
       "      <th>0</th>\n",
       "      <th>1</th>\n",
       "      <th>2</th>\n",
       "      <th>3</th>\n",
       "      <th>4</th>\n",
       "      <th>5</th>\n",
       "    </tr>\n",
       "  </thead>\n",
       "  <tbody>\n",
       "    <tr>\n",
       "      <th>count</th>\n",
       "      <td>16936134</td>\n",
       "      <td>16936134</td>\n",
       "      <td>16936134</td>\n",
       "      <td>16936134</td>\n",
       "      <td>16936134</td>\n",
       "      <td>16936134</td>\n",
       "    </tr>\n",
       "    <tr>\n",
       "      <th>unique</th>\n",
       "      <td>992</td>\n",
       "      <td>15631466</td>\n",
       "      <td>83905</td>\n",
       "      <td>81751</td>\n",
       "      <td>960402</td>\n",
       "      <td>693231</td>\n",
       "    </tr>\n",
       "    <tr>\n",
       "      <th>top</th>\n",
       "      <td>user_000949</td>\n",
       "      <td>2009-02-26T21:29:15Z</td>\n",
       "      <td>a74b1b7f-71a5-4011-9441-d0b5e4122711</td>\n",
       "      <td>Radiohead</td>\n",
       "      <td>db16d0b3-b8ce-4aa8-a11a-e4d53cc7f8a6</td>\n",
       "      <td>Intro</td>\n",
       "    </tr>\n",
       "    <tr>\n",
       "      <th>freq</th>\n",
       "      <td>172042</td>\n",
       "      <td>193</td>\n",
       "      <td>111488</td>\n",
       "      <td>111488</td>\n",
       "      <td>3991</td>\n",
       "      <td>14908</td>\n",
       "    </tr>\n",
       "  </tbody>\n",
       "</table>\n",
       "</div>"
      ],
      "text/plain": [
       "                  0                     1  \\\n",
       "count      16936134              16936134   \n",
       "unique          992              15631466   \n",
       "top     user_000949  2009-02-26T21:29:15Z   \n",
       "freq         172042                   193   \n",
       "\n",
       "                                           2          3  \\\n",
       "count                               16936134   16936134   \n",
       "unique                                 83905      81751   \n",
       "top     a74b1b7f-71a5-4011-9441-d0b5e4122711  Radiohead   \n",
       "freq                                  111488     111488   \n",
       "\n",
       "                                           4         5  \n",
       "count                               16936134  16936134  \n",
       "unique                                960402    693231  \n",
       "top     db16d0b3-b8ce-4aa8-a11a-e4d53cc7f8a6     Intro  \n",
       "freq                                    3991     14908  "
      ]
     },
     "execution_count": 2,
     "metadata": {},
     "output_type": "execute_result"
    }
   ],
   "source": [
    "df = pd.read_csv(data_dir + file, delimiter=\"\\t\", header=None, error_bad_lines=False)\n",
    "df.describe()\n",
    "drop_na_df = df.dropna(axis=0, how='any')\n",
    "#drop_na_df.head(5)\n",
    "drop_na_df.describe()"
   ]
  },
  {
   "cell_type": "code",
   "execution_count": 2,
   "metadata": {},
   "outputs": [],
   "source": [
    "file_name = 'original_set'\n",
    "#drop_na_df.to_pickle(data_dir + file_name)\n",
    "drop_na_df = pd.read_pickle(data_dir + file_name)"
   ]
  },
  {
   "cell_type": "code",
   "execution_count": 3,
   "metadata": {},
   "outputs": [
    {
     "name": "stdout",
     "output_type": "stream",
     "text": [
      "2009-05-05 23:59:59\n",
      "2009-02-04 23:59:59\n"
     ]
    }
   ],
   "source": [
    "most_close_time = datetime.strptime(\"2009-05-05 23:59:59\", \"%Y-%m-%d %H:%M:%S\")\n",
    "print(most_close_time)\n",
    "most_early_time = most_close_time - timedelta(days=30)\n",
    "print(most_early_time)"
   ]
  },
  {
   "cell_type": "code",
   "execution_count": 4,
   "metadata": {
    "scrolled": true
   },
   "outputs": [
    {
     "data": {
      "text/html": [
       "<div>\n",
       "<style scoped>\n",
       "    .dataframe tbody tr th:only-of-type {\n",
       "        vertical-align: middle;\n",
       "    }\n",
       "\n",
       "    .dataframe tbody tr th {\n",
       "        vertical-align: top;\n",
       "    }\n",
       "\n",
       "    .dataframe thead th {\n",
       "        text-align: right;\n",
       "    }\n",
       "</style>\n",
       "<table border=\"1\" class=\"dataframe\">\n",
       "  <thead>\n",
       "    <tr style=\"text-align: right;\">\n",
       "      <th></th>\n",
       "      <th>0</th>\n",
       "      <th>1</th>\n",
       "      <th>2</th>\n",
       "      <th>3</th>\n",
       "      <th>4</th>\n",
       "      <th>5</th>\n",
       "    </tr>\n",
       "  </thead>\n",
       "  <tbody>\n",
       "    <tr>\n",
       "      <th>count</th>\n",
       "      <td>1645146</td>\n",
       "      <td>1645146</td>\n",
       "      <td>1645146</td>\n",
       "      <td>1645146</td>\n",
       "      <td>1645146</td>\n",
       "      <td>1645146</td>\n",
       "    </tr>\n",
       "    <tr>\n",
       "      <th>unique</th>\n",
       "      <td>902</td>\n",
       "      <td>1484806</td>\n",
       "      <td>39084</td>\n",
       "      <td>38493</td>\n",
       "      <td>339118</td>\n",
       "      <td>264073</td>\n",
       "    </tr>\n",
       "    <tr>\n",
       "      <th>top</th>\n",
       "      <td>user_000791</td>\n",
       "      <td>2009-02-26T21:29:15Z</td>\n",
       "      <td>164f0d73-1234-4e2c-8743-d77bf2191051</td>\n",
       "      <td>Kanye West</td>\n",
       "      <td>f06ab747-9507-4373-966b-71b797c2466a</td>\n",
       "      <td>Intro</td>\n",
       "    </tr>\n",
       "    <tr>\n",
       "      <th>freq</th>\n",
       "      <td>24413</td>\n",
       "      <td>193</td>\n",
       "      <td>13363</td>\n",
       "      <td>13363</td>\n",
       "      <td>1303</td>\n",
       "      <td>1346</td>\n",
       "    </tr>\n",
       "  </tbody>\n",
       "</table>\n",
       "</div>"
      ],
      "text/plain": [
       "                  0                     1  \\\n",
       "count       1645146               1645146   \n",
       "unique          902               1484806   \n",
       "top     user_000791  2009-02-26T21:29:15Z   \n",
       "freq          24413                   193   \n",
       "\n",
       "                                           2           3  \\\n",
       "count                                1645146     1645146   \n",
       "unique                                 39084       38493   \n",
       "top     164f0d73-1234-4e2c-8743-d77bf2191051  Kanye West   \n",
       "freq                                   13363       13363   \n",
       "\n",
       "                                           4        5  \n",
       "count                                1645146  1645146  \n",
       "unique                                339118   264073  \n",
       "top     f06ab747-9507-4373-966b-71b797c2466a    Intro  \n",
       "freq                                    1303     1346  "
      ]
     },
     "execution_count": 4,
     "metadata": {},
     "output_type": "execute_result"
    }
   ],
   "source": [
    "temp_df = drop_na_df.copy()\n",
    "f = lambda x: np.NaN if datetime.strptime(x, \"%Y-%m-%dT%H:%M:%SZ\") < most_early_time else x\n",
    "temp_df.iloc[:,1:2] = drop_na_df.iloc[:,1:2].applymap(f)\n",
    "\n",
    "split_date_df = temp_df.dropna(axis=0, how='any')\n",
    "split_date_df.describe()"
   ]
  },
  {
   "cell_type": "code",
   "execution_count": 2,
   "metadata": {},
   "outputs": [],
   "source": [
    "file_name = 'split_date_set'\n",
    "#split_date_df.to_pickle(data_dir + file_name)\n",
    "split_date_df = pd.read_pickle(data_dir + file_name)"
   ]
  },
  {
   "cell_type": "code",
   "execution_count": 3,
   "metadata": {},
   "outputs": [],
   "source": [
    "#Set Session_time which is the minimum time between two songs\n",
    "Session_time = timedelta(minutes=20)"
   ]
  },
  {
   "cell_type": "code",
   "execution_count": 4,
   "metadata": {},
   "outputs": [
    {
     "name": "stdout",
     "output_type": "stream",
     "text": [
      "['user_000001' '2009-05-04T13:06:09Z'\n",
      " 'a7f7df4a-77d8-4f12-8acd-5c60c93f4de8' '坂本龍一'\n",
      " 'f7c1f8f8-b935-45ed-8fc8-7def69d92a10' 'The Last Emperor (Theme)']\n"
     ]
    },
    {
     "data": {
      "text/plain": [
       "False"
      ]
     },
     "execution_count": 4,
     "metadata": {},
     "output_type": "execute_result"
    }
   ],
   "source": [
    "idx = 0\n",
    "data = split_date_df.iloc[idx:idx+1,:].values[0]\n",
    "print(data)\n",
    "test_time1 = datetime.strptime('2009-05-04T13:06:09Z', \"%Y-%m-%dT%H:%M:%SZ\")\n",
    "test_time2 = datetime.strptime('2009-05-04T13:25:09Z', \"%Y-%m-%dT%H:%M:%SZ\")\n",
    "test_time2 - test_time1 > Session_time"
   ]
  },
  {
   "cell_type": "code",
   "execution_count": 5,
   "metadata": {},
   "outputs": [],
   "source": [
    "dataset_dic = {}\n",
    "#for idx in range(split_date_df.shape[0]-1,-1,-1):\n",
    "for idx in range(split_date_df.shape[0]-1,-1,-1):\n",
    "    data = split_date_df.iloc[idx:idx+1,:].values[0]\n",
    "    #print(data)\n",
    "    if not data[0][5:] in dataset_dic.keys():\n",
    "        #Session List\n",
    "        dataset_dic[data[0][5:]] = []\n",
    "        current_time = datetime.strptime(data[1], \"%Y-%m-%dT%H:%M:%SZ\")\n",
    "        #Session\n",
    "        dataset_dic[data[0][5:]].append([])\n",
    "        #log\n",
    "        dataset_dic[data[0][5:]][0].append([data[3],data[5]])\n",
    "    else:\n",
    "        #log time\n",
    "        temp_time = datetime.strptime(data[1], \"%Y-%m-%dT%H:%M:%SZ\")\n",
    "        if temp_time - current_time > Session_time:\n",
    "            #new session\n",
    "            dataset_dic[data[0][5:]].append([])\n",
    "            #Put the log to the len(session_list)-1 of session_list(current_session)\n",
    "            dataset_dic[data[0][5:]][len(dataset_dic[data[0][5:]])-1].append([data[3],data[5]])\n",
    "            current_time = temp_time\n",
    "        else:\n",
    "            #Put the log to the len(session_list)-1 of session_list(current_session)\n",
    "            dataset_dic[data[0][5:]][len(dataset_dic[data[0][5:]])-1].append([data[3],data[5]])\n",
    "            current_time = temp_time"
   ]
  },
  {
   "cell_type": "code",
   "execution_count": 7,
   "metadata": {},
   "outputs": [],
   "source": [
    "users = list(dataset_dic.values())\n",
    "users = users.copy()"
   ]
  },
  {
   "cell_type": "code",
   "execution_count": 8,
   "metadata": {
    "scrolled": false
   },
   "outputs": [],
   "source": [
    "#Set the minimun number of songs in a session\n",
    "Limit_of_Session = 6"
   ]
  },
  {
   "cell_type": "code",
   "execution_count": 9,
   "metadata": {},
   "outputs": [],
   "source": [
    "#remove len of session_list < 6\n",
    "#the first of session is the oldest\n",
    "#user\n",
    "for session_list in users:\n",
    "    #session list\n",
    "    session_list_copy = session_list.copy()\n",
    "    #print(len(session_list))\n",
    "    for session in session_list_copy:\n",
    "        if len(session) < Limit_of_Session:\n",
    "            session_list.remove(session)\n",
    "    #print(len(session_list))\n",
    "    \n",
    "users_copy = users.copy()\n",
    "for session_list in users_copy:\n",
    "    if len(session_list) == 0:\n",
    "        users.remove(session_list)"
   ]
  },
  {
   "cell_type": "code",
   "execution_count": 4,
   "metadata": {},
   "outputs": [
    {
     "name": "stdout",
     "output_type": "stream",
     "text": [
      "742\n"
     ]
    }
   ],
   "source": [
    "#Save Users=[session list,session list,...]=[[session,session,...],[session,session,...],...]\n",
    "\n",
    "#print(len(users))\n",
    "\n",
    "#Save\n",
    "#with open(data_dir + 'users.pkl', 'wb') as f:\n",
    "#    pickle.dump(users, f)\n",
    "#load\n",
    "with open(data_dir + 'users.pkl', 'rb') as f:\n",
    "    users = pickle.load(f)\n",
    "print(len(users))"
   ]
  },
  {
   "cell_type": "code",
   "execution_count": 5,
   "metadata": {},
   "outputs": [],
   "source": [
    "Data_Size = 6"
   ]
  },
  {
   "cell_type": "code",
   "execution_count": 6,
   "metadata": {},
   "outputs": [],
   "source": [
    "SongData = []\n",
    "for session_list in users:\n",
    "    for session in session_list:\n",
    "        for idx in range(len(session)-Data_Size-1):\n",
    "            SongData.append(session[idx:idx+Data_Size])"
   ]
  },
  {
   "cell_type": "code",
   "execution_count": null,
   "metadata": {},
   "outputs": [],
   "source": []
  },
  {
   "cell_type": "code",
   "execution_count": 14,
   "metadata": {},
   "outputs": [
    {
     "name": "stderr",
     "output_type": "stream",
     "text": [
      "100%|████████████████████████████████████████████████████████████████████████████████| 742/742 [37:48<00:00,  3.06s/it]\n"
     ]
    }
   ],
   "source": [
    "#Find the Unique Song List\n",
    "unique_song = []\n",
    "unique_song_name = []\n",
    "for session_list in tqdm.tqdm(users):\n",
    "    for session in session_list:\n",
    "        for log in session:\n",
    "            song_name = log[0] + log[1]\n",
    "            if not song_name in unique_song_name:\n",
    "                unique_song_name.append(song_name)\n",
    "                unique_song.append([log[0], log[1]])"
   ]
  },
  {
   "cell_type": "code",
   "execution_count": 2,
   "metadata": {},
   "outputs": [
    {
     "name": "stdout",
     "output_type": "stream",
     "text": [
      "173327\n"
     ]
    }
   ],
   "source": [
    "#print(len(unique_song))\n",
    "#print(len(unique_song_name))\n",
    "\n",
    "#Save\n",
    "#with open(data_dir + '1M_unique_song.pkl', 'wb') as f:\n",
    "#    pickle.dump(unique_song, f)\n",
    "    \n",
    "#load\n",
    "with open(data_dir + '1M_unique_song.pkl', 'rb') as f:\n",
    "    unique_song = pickle.load(f)\n",
    "print(len(unique_song))"
   ]
  },
  {
   "cell_type": "code",
   "execution_count": null,
   "metadata": {},
   "outputs": [],
   "source": []
  },
  {
   "cell_type": "code",
   "execution_count": 3,
   "metadata": {},
   "outputs": [
    {
     "name": "stderr",
     "output_type": "stream",
     "text": [
      "100%|███████████████████████████████████████████████████████████████████████| 173327/173327 [77:56:05<00:00,  1.62s/it]\n"
     ]
    }
   ],
   "source": [
    "from LastfmTag import Search_Tag\n",
    "\n",
    "#Use unique song List find the song which have 'Invalid Tag'\n",
    "#OK_unique_song = [['Kid Sister', 'Control'],...]\n",
    "#Tag_List = [['dance', 'rap', 'hip hop'],...]\n",
    "#Invalid = [[Invalid_Artist, Invalid_Song],...]\n",
    "\n",
    "OK_unique_song = []\n",
    "Tag_List = []\n",
    "Invalid = []\n",
    "\n",
    "max_len = len(unique_song)\n",
    "\n",
    "for idx in tqdm.tqdm(range(max_len)):\n",
    "    artist_name = unique_song[idx][0]\n",
    "    track_name = unique_song[idx][1]\n",
    "    OK_unique_song, Tag_List, Invalid = Search_Tag(OK_unique_song, Tag_List, Invalid, artist_name, track_name)\n",
    "    #time.sleep(0.0001)"
   ]
  },
  {
   "cell_type": "code",
   "execution_count": 3,
   "metadata": {},
   "outputs": [
    {
     "name": "stdout",
     "output_type": "stream",
     "text": [
      "Invalid\n",
      "43318\n",
      "OK_unique_song\n",
      "130009\n",
      "Tag_List\n",
      "130009\n"
     ]
    }
   ],
   "source": [
    "#Invalid\n",
    "print('Invalid')\n",
    "#print(len(Invalid))\n",
    "#Save\n",
    "#with open(data_dir + 'Invalid.pkl', 'wb') as f:\n",
    "#    pickle.dump(Invalid, f)\n",
    "#load\n",
    "with open(data_dir + 'Invalid.pkl', 'rb') as f:\n",
    "    Invalid = pickle.load(f)\n",
    "print(len(Invalid))\n",
    "\n",
    "\n",
    "#OK_unique_song\n",
    "print('OK_unique_song')\n",
    "#print(len(OK_unique_song))\n",
    "#Save\n",
    "#with open(data_dir + 'OK_unique_song.pkl', 'wb') as f:\n",
    "#    pickle.dump(OK_unique_song, f)\n",
    "#load\n",
    "with open(data_dir + 'OK_unique_song.pkl', 'rb') as f:\n",
    "    OK_unique_song = pickle.load(f)\n",
    "print(len(OK_unique_song))\n",
    "\n",
    "\n",
    "#Tag_List\n",
    "print('Tag_List')\n",
    "#print(len(Tag_List))\n",
    "#Save\n",
    "#with open(data_dir + 'Tag_List.pkl', 'wb') as f:\n",
    "#    pickle.dump(Tag_List, f)\n",
    "#load\n",
    "with open(data_dir + 'Tag_List.pkl', 'rb') as f:\n",
    "    Tag_List = pickle.load(f)\n",
    "print(len(Tag_List))"
   ]
  },
  {
   "cell_type": "code",
   "execution_count": 8,
   "metadata": {},
   "outputs": [
    {
     "name": "stderr",
     "output_type": "stream",
     "text": [
      "100%|██████████| 130009/130009 [00:04<00:00, 27429.44it/s]"
     ]
    },
    {
     "name": "stdout",
     "output_type": "stream",
     "text": [
      "OK_unique_tag\n",
      "16141\n"
     ]
    },
    {
     "name": "stderr",
     "output_type": "stream",
     "text": [
      "\n"
     ]
    }
   ],
   "source": [
    "OK_unique_tag = []\n",
    "for song_tag in tqdm.tqdm(Tag_List):\n",
    "    for tag in song_tag:\n",
    "        if not tag in OK_unique_tag:\n",
    "            OK_unique_tag.append(tag)\n",
    "#Tag_List\n",
    "print('OK_unique_tag')\n",
    "#print(len(Tag_List))\n",
    "#Save\n",
    "with open(data_dir + 'OK_unique_tag.pkl', 'wb') as f:\n",
    "    pickle.dump(OK_unique_tag, f)\n",
    "#load\n",
    "with open(data_dir + 'OK_unique_tag.pkl', 'rb') as f:\n",
    "    OK_unique_tag = pickle.load(f)\n",
    "print(len(OK_unique_tag))"
   ]
  },
  {
   "cell_type": "code",
   "execution_count": 9,
   "metadata": {},
   "outputs": [
    {
     "name": "stderr",
     "output_type": "stream",
     "text": [
      "100%|██████████| 1119883/1119883 [2:27:14<00:00, 126.76it/s] "
     ]
    },
    {
     "name": "stdout",
     "output_type": "stream",
     "text": [
      "457051\n"
     ]
    },
    {
     "name": "stderr",
     "output_type": "stream",
     "text": [
      "\n"
     ]
    }
   ],
   "source": [
    "#Remove the unique_song's song which in the Invalid lsit to check the length\n",
    "#Delete invalid song which is in SongData\n",
    "#SongData剔除包含'不符合的song, Asrtist'的Data\n",
    "OK_Song_Data = []\n",
    "for data in tqdm.tqdm(SongData):\n",
    "    Invalid_log = False\n",
    "    for log in data:\n",
    "        artist = log[0]\n",
    "        track = log[1]\n",
    "        if ([artist, track] in Invalid) or not([artist, track] in OK_unique_song):\n",
    "            Invalid_log = True\n",
    "            break\n",
    "    if not Invalid_log:\n",
    "        OK_Song_Data.append(data)\n",
    "print(len(OK_Song_Data))"
   ]
  },
  {
   "cell_type": "code",
   "execution_count": 10,
   "metadata": {},
   "outputs": [
    {
     "name": "stdout",
     "output_type": "stream",
     "text": [
      "1119883\n",
      "457051\n"
     ]
    }
   ],
   "source": [
    "print(len(SongData))\n",
    "print(len(OK_Song_Data))"
   ]
  },
  {
   "cell_type": "code",
   "execution_count": 2,
   "metadata": {},
   "outputs": [
    {
     "name": "stdout",
     "output_type": "stream",
     "text": [
      "OK_Song_Data\n",
      "457051\n"
     ]
    }
   ],
   "source": [
    "#OK_Song_Data\n",
    "print('OK_Song_Data')\n",
    "#print(len(Tag_List))\n",
    "#Save\n",
    "#with open(data_dir + 'OK_Song_Data.pkl', 'wb') as f:\n",
    "#    pickle.dump(OK_Song_Data, f)\n",
    "#load\n",
    "with open(data_dir + 'OK_Song_Data.pkl', 'rb') as f:\n",
    "    OK_Song_Data = pickle.load(f)\n",
    "print(len(OK_Song_Data))"
   ]
  },
  {
   "cell_type": "code",
   "execution_count": 4,
   "metadata": {
    "scrolled": false
   },
   "outputs": [
    {
     "name": "stderr",
     "output_type": "stream",
     "text": [
      "100%|██████████| 457051/457051 [42:27<00:00, 179.41it/s] "
     ]
    },
    {
     "name": "stdout",
     "output_type": "stream",
     "text": [
      "457051\n"
     ]
    },
    {
     "name": "stderr",
     "output_type": "stream",
     "text": [
      "\n"
     ]
    }
   ],
   "source": [
    "#OK_unique_song, Tag_List\n",
    "OK_Tag_Data = []\n",
    "for data in tqdm.tqdm(OK_Song_Data):\n",
    "    OK_Tag_Data.append([])\n",
    "    for log in data:\n",
    "        artist = log[0]\n",
    "        track = log[1]\n",
    "        #print([artist, track])\n",
    "        tag_idx = OK_unique_song.index([artist, track])\n",
    "        #print(tag_idx)\n",
    "        OK_Tag_Data[len(OK_Tag_Data) - 1].append(Tag_List[tag_idx])\n",
    "        #print(Tag_List[tag_idx])\n",
    "        #break\n",
    "    #break\n",
    "print(len(OK_Tag_Data))"
   ]
  },
  {
   "cell_type": "code",
   "execution_count": 5,
   "metadata": {},
   "outputs": [
    {
     "name": "stdout",
     "output_type": "stream",
     "text": [
      "OK_Tag_Data\n",
      "457051\n"
     ]
    }
   ],
   "source": [
    "#OK_Tag_Data\n",
    "print('OK_Tag_Data')\n",
    "#print(len(Tag_List))\n",
    "#Save\n",
    "#with open(data_dir + 'OK_Tag_Data.pkl', 'wb') as f:\n",
    "#    pickle.dump(OK_Tag_Data, f)\n",
    "#load\n",
    "with open(data_dir + 'OK_Tag_Data.pkl', 'rb') as f:\n",
    "    OK_Tag_Data = pickle.load(f)\n",
    "print(len(OK_Tag_Data))"
   ]
  },
  {
   "cell_type": "code",
   "execution_count": null,
   "metadata": {},
   "outputs": [],
   "source": []
  },
  {
   "cell_type": "code",
   "execution_count": null,
   "metadata": {},
   "outputs": [],
   "source": []
  },
  {
   "cell_type": "code",
   "execution_count": null,
   "metadata": {},
   "outputs": [],
   "source": []
  },
  {
   "cell_type": "code",
   "execution_count": null,
   "metadata": {},
   "outputs": [],
   "source": []
  }
 ],
 "metadata": {
  "kernelspec": {
   "display_name": "Python 3",
   "language": "python",
   "name": "python3"
  },
  "language_info": {
   "codemirror_mode": {
    "name": "ipython",
    "version": 3
   },
   "file_extension": ".py",
   "mimetype": "text/x-python",
   "name": "python",
   "nbconvert_exporter": "python",
   "pygments_lexer": "ipython3",
   "version": "3.6.8"
  }
 },
 "nbformat": 4,
 "nbformat_minor": 2
}
