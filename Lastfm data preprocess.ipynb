{
 "cells": [
  {
   "cell_type": "code",
   "execution_count": 1,
   "metadata": {},
   "outputs": [],
   "source": [
    "import pandas as pd\n",
    "import numpy as np\n",
    "from datetime import datetime, timedelta\n",
    "import os\n",
    "\n",
    "data_dir = './data/'\n",
    "file = 'userid-timestamp-artid-artname-traid-traname.tsv'"
   ]
  },
  {
   "cell_type": "code",
   "execution_count": 2,
   "metadata": {},
   "outputs": [
    {
     "name": "stderr",
     "output_type": "stream",
     "text": [
      "b'Skipping line 2120260: expected 6 fields, saw 8\\n'\n",
      "b'Skipping line 2446318: expected 6 fields, saw 8\\n'\n",
      "b'Skipping line 11141081: expected 6 fields, saw 8\\n'\n",
      "b'Skipping line 11152099: expected 6 fields, saw 12\\nSkipping line 11152402: expected 6 fields, saw 8\\n'\n",
      "b'Skipping line 11882087: expected 6 fields, saw 8\\n'\n",
      "b'Skipping line 12902539: expected 6 fields, saw 8\\nSkipping line 12935044: expected 6 fields, saw 8\\n'\n",
      "b'Skipping line 17589539: expected 6 fields, saw 8\\n'\n"
     ]
    },
    {
     "data": {
      "text/html": [
       "<div>\n",
       "<style scoped>\n",
       "    .dataframe tbody tr th:only-of-type {\n",
       "        vertical-align: middle;\n",
       "    }\n",
       "\n",
       "    .dataframe tbody tr th {\n",
       "        vertical-align: top;\n",
       "    }\n",
       "\n",
       "    .dataframe thead th {\n",
       "        text-align: right;\n",
       "    }\n",
       "</style>\n",
       "<table border=\"1\" class=\"dataframe\">\n",
       "  <thead>\n",
       "    <tr style=\"text-align: right;\">\n",
       "      <th></th>\n",
       "      <th>0</th>\n",
       "      <th>1</th>\n",
       "      <th>2</th>\n",
       "      <th>3</th>\n",
       "      <th>4</th>\n",
       "      <th>5</th>\n",
       "    </tr>\n",
       "  </thead>\n",
       "  <tbody>\n",
       "    <tr>\n",
       "      <th>count</th>\n",
       "      <td>16936134</td>\n",
       "      <td>16936134</td>\n",
       "      <td>16936134</td>\n",
       "      <td>16936134</td>\n",
       "      <td>16936134</td>\n",
       "      <td>16936134</td>\n",
       "    </tr>\n",
       "    <tr>\n",
       "      <th>unique</th>\n",
       "      <td>992</td>\n",
       "      <td>15631466</td>\n",
       "      <td>83905</td>\n",
       "      <td>81751</td>\n",
       "      <td>960402</td>\n",
       "      <td>693231</td>\n",
       "    </tr>\n",
       "    <tr>\n",
       "      <th>top</th>\n",
       "      <td>user_000949</td>\n",
       "      <td>2009-02-26T21:29:15Z</td>\n",
       "      <td>a74b1b7f-71a5-4011-9441-d0b5e4122711</td>\n",
       "      <td>Radiohead</td>\n",
       "      <td>db16d0b3-b8ce-4aa8-a11a-e4d53cc7f8a6</td>\n",
       "      <td>Intro</td>\n",
       "    </tr>\n",
       "    <tr>\n",
       "      <th>freq</th>\n",
       "      <td>172042</td>\n",
       "      <td>193</td>\n",
       "      <td>111488</td>\n",
       "      <td>111488</td>\n",
       "      <td>3991</td>\n",
       "      <td>14908</td>\n",
       "    </tr>\n",
       "  </tbody>\n",
       "</table>\n",
       "</div>"
      ],
      "text/plain": [
       "                  0                     1  \\\n",
       "count      16936134              16936134   \n",
       "unique          992              15631466   \n",
       "top     user_000949  2009-02-26T21:29:15Z   \n",
       "freq         172042                   193   \n",
       "\n",
       "                                           2          3  \\\n",
       "count                               16936134   16936134   \n",
       "unique                                 83905      81751   \n",
       "top     a74b1b7f-71a5-4011-9441-d0b5e4122711  Radiohead   \n",
       "freq                                  111488     111488   \n",
       "\n",
       "                                           4         5  \n",
       "count                               16936134  16936134  \n",
       "unique                                960402    693231  \n",
       "top     db16d0b3-b8ce-4aa8-a11a-e4d53cc7f8a6     Intro  \n",
       "freq                                    3991     14908  "
      ]
     },
     "execution_count": 2,
     "metadata": {},
     "output_type": "execute_result"
    }
   ],
   "source": [
    "df = pd.read_csv(data_dir + file, delimiter=\"\\t\", header=None, error_bad_lines=False)\n",
    "df.describe()\n",
    "drop_na_df = df.dropna(axis=0, how='any')\n",
    "#drop_na_df.head(5)\n",
    "drop_na_df.describe()"
   ]
  },
  {
   "cell_type": "code",
   "execution_count": 3,
   "metadata": {},
   "outputs": [],
   "source": [
    "file_name = 'original_set'\n",
    "#drop_na_df.to_pickle(data_dir + file_name)\n",
    "drop_na_df = pd.read_pickle(data_dir + file_name)"
   ]
  },
  {
   "cell_type": "code",
   "execution_count": 4,
   "metadata": {},
   "outputs": [
    {
     "name": "stdout",
     "output_type": "stream",
     "text": [
      "2009-05-05 23:59:59\n",
      "2008-11-06 23:59:59\n"
     ]
    }
   ],
   "source": [
    "most_close_time = datetime.strptime(\"2009-05-05 23:59:59\", \"%Y-%m-%d %H:%M:%S\")\n",
    "print(most_close_time)\n",
    "most_early_time = most_close_time - timedelta(days=180)\n",
    "print(most_early_time)"
   ]
  },
  {
   "cell_type": "code",
   "execution_count": 5,
   "metadata": {
    "scrolled": true
   },
   "outputs": [
    {
     "data": {
      "text/html": [
       "<div>\n",
       "<style scoped>\n",
       "    .dataframe tbody tr th:only-of-type {\n",
       "        vertical-align: middle;\n",
       "    }\n",
       "\n",
       "    .dataframe tbody tr th {\n",
       "        vertical-align: top;\n",
       "    }\n",
       "\n",
       "    .dataframe thead th {\n",
       "        text-align: right;\n",
       "    }\n",
       "</style>\n",
       "<table border=\"1\" class=\"dataframe\">\n",
       "  <thead>\n",
       "    <tr style=\"text-align: right;\">\n",
       "      <th></th>\n",
       "      <th>0</th>\n",
       "      <th>1</th>\n",
       "      <th>2</th>\n",
       "      <th>3</th>\n",
       "      <th>4</th>\n",
       "      <th>5</th>\n",
       "    </tr>\n",
       "  </thead>\n",
       "  <tbody>\n",
       "    <tr>\n",
       "      <th>count</th>\n",
       "      <td>3052646</td>\n",
       "      <td>3052646</td>\n",
       "      <td>3052646</td>\n",
       "      <td>3052646</td>\n",
       "      <td>3052646</td>\n",
       "      <td>3052646</td>\n",
       "    </tr>\n",
       "    <tr>\n",
       "      <th>unique</th>\n",
       "      <td>923</td>\n",
       "      <td>2757174</td>\n",
       "      <td>49603</td>\n",
       "      <td>48747</td>\n",
       "      <td>465798</td>\n",
       "      <td>353529</td>\n",
       "    </tr>\n",
       "    <tr>\n",
       "      <th>top</th>\n",
       "      <td>user_000791</td>\n",
       "      <td>2009-02-26T21:29:15Z</td>\n",
       "      <td>164f0d73-1234-4e2c-8743-d77bf2191051</td>\n",
       "      <td>Kanye West</td>\n",
       "      <td>153d8ca0-dc23-4548-b64f-2c49db7f30db</td>\n",
       "      <td>Heartless</td>\n",
       "    </tr>\n",
       "    <tr>\n",
       "      <th>freq</th>\n",
       "      <td>48822</td>\n",
       "      <td>193</td>\n",
       "      <td>31412</td>\n",
       "      <td>31412</td>\n",
       "      <td>2559</td>\n",
       "      <td>2635</td>\n",
       "    </tr>\n",
       "  </tbody>\n",
       "</table>\n",
       "</div>"
      ],
      "text/plain": [
       "                  0                     1  \\\n",
       "count       3052646               3052646   \n",
       "unique          923               2757174   \n",
       "top     user_000791  2009-02-26T21:29:15Z   \n",
       "freq          48822                   193   \n",
       "\n",
       "                                           2           3  \\\n",
       "count                                3052646     3052646   \n",
       "unique                                 49603       48747   \n",
       "top     164f0d73-1234-4e2c-8743-d77bf2191051  Kanye West   \n",
       "freq                                   31412       31412   \n",
       "\n",
       "                                           4          5  \n",
       "count                                3052646    3052646  \n",
       "unique                                465798     353529  \n",
       "top     153d8ca0-dc23-4548-b64f-2c49db7f30db  Heartless  \n",
       "freq                                    2559       2635  "
      ]
     },
     "execution_count": 5,
     "metadata": {},
     "output_type": "execute_result"
    }
   ],
   "source": [
    "temp_df = drop_na_df.copy()\n",
    "f = lambda x: np.NaN if datetime.strptime(x, \"%Y-%m-%dT%H:%M:%SZ\") < most_early_time else x\n",
    "temp_df.iloc[:,1:2] = drop_na_df.iloc[:,1:2].applymap(f)\n",
    "\n",
    "split_date_df = temp_df.dropna(axis=0, how='any')\n",
    "split_date_df.describe()"
   ]
  },
  {
   "cell_type": "code",
   "execution_count": 2,
   "metadata": {},
   "outputs": [],
   "source": [
    "file_name = 'split_date_set'\n",
    "#split_date_df.to_pickle(data_dir + file_name)\n",
    "split_date_df = pd.read_pickle(data_dir + file_name)"
   ]
  },
  {
   "cell_type": "code",
   "execution_count": 3,
   "metadata": {},
   "outputs": [],
   "source": [
    "Session_time = timedelta(minutes=20)"
   ]
  },
  {
   "cell_type": "code",
   "execution_count": 67,
   "metadata": {},
   "outputs": [
    {
     "name": "stdout",
     "output_type": "stream",
     "text": [
      "['user_000001' '2009-05-04T13:06:09Z'\n",
      " 'a7f7df4a-77d8-4f12-8acd-5c60c93f4de8' '坂本龍一'\n",
      " 'f7c1f8f8-b935-45ed-8fc8-7def69d92a10' 'The Last Emperor (Theme)']\n"
     ]
    },
    {
     "data": {
      "text/plain": [
       "False"
      ]
     },
     "execution_count": 67,
     "metadata": {},
     "output_type": "execute_result"
    }
   ],
   "source": [
    "idx = 0\n",
    "data = split_date_df.iloc[idx:idx+1,:].values[0]\n",
    "print(data)\n",
    "test_time1 = datetime.strptime('2009-05-04T13:06:09Z', \"%Y-%m-%dT%H:%M:%SZ\")\n",
    "test_time2 = datetime.strptime('2009-05-04T13:25:09Z', \"%Y-%m-%dT%H:%M:%SZ\")\n",
    "test_time2 - test_time1 > Session_time"
   ]
  },
  {
   "cell_type": "code",
   "execution_count": 4,
   "metadata": {},
   "outputs": [],
   "source": [
    "dataset_dic = {}\n",
    "#for idx in range(split_date_df.shape[0]-1,-1,-1):\n",
    "for idx in range(split_date_df.shape[0]-1,-1,-1):\n",
    "    data = split_date_df.iloc[idx:idx+1,:].values[0]\n",
    "    #print(data)\n",
    "    if not data[0][5:] in dataset_dic.keys():\n",
    "        #Session List\n",
    "        dataset_dic[data[0][5:]] = []\n",
    "        current_time = datetime.strptime(data[1], \"%Y-%m-%dT%H:%M:%SZ\")\n",
    "        #Session\n",
    "        dataset_dic[data[0][5:]].append([])\n",
    "        #log\n",
    "        dataset_dic[data[0][5:]][0].append([data[3],data[5]])\n",
    "    else:\n",
    "        #log time\n",
    "        temp_time = datetime.strptime(data[1], \"%Y-%m-%dT%H:%M:%SZ\")\n",
    "        if temp_time - current_time > Session_time:\n",
    "            #new session\n",
    "            dataset_dic[data[0][5:]].append([])\n",
    "            #Put the log to the len(session_list)-1 of session_list(current_session)\n",
    "            dataset_dic[data[0][5:]][len(dataset_dic[data[0][5:]])-1].append([data[3],data[5]])\n",
    "            current_time = temp_time\n",
    "        else:\n",
    "            #Put the log to the len(session_list)-1 of session_list(current_session)\n",
    "            dataset_dic[data[0][5:]][len(dataset_dic[data[0][5:]])-1].append([data[3],data[5]])\n",
    "            current_time = temp_time"
   ]
  },
  {
   "cell_type": "code",
   "execution_count": 6,
   "metadata": {
    "scrolled": false
   },
   "outputs": [],
   "source": [
    "Limit_of_Session = 6"
   ]
  },
  {
   "cell_type": "code",
   "execution_count": 7,
   "metadata": {},
   "outputs": [],
   "source": [
    "#remove len of session_list < 6\n",
    "#the first of session is the oldest\n",
    "#user\n",
    "for session_list in users:\n",
    "    #session list\n",
    "    session_list_copy = session_list.copy()\n",
    "    #print(len(session_list))\n",
    "    for session in session_list_copy:\n",
    "        if len(session) < Limit_of_Session:\n",
    "            session_list.remove(session)\n",
    "    #print(len(session_list))\n",
    "    \n",
    "users_copy = users.copy()\n",
    "for session_list in users_copy:\n",
    "    if len(session_list) == 0:\n",
    "        users.remove(session_list)"
   ]
  },
  {
   "cell_type": "code",
   "execution_count": 9,
   "metadata": {},
   "outputs": [],
   "source": [
    "for session_list in users:\n",
    "    if len(session_list) == 0:\n",
    "        print(session_list)\n",
    "    for session in session_list:\n",
    "        if len(session) < Limit_of_Session:\n",
    "            print(session)\n",
    "        "
   ]
  },
  {
   "cell_type": "code",
   "execution_count": null,
   "metadata": {},
   "outputs": [],
   "source": []
  }
 ],
 "metadata": {
  "kernelspec": {
   "display_name": "Python 3",
   "language": "python",
   "name": "python3"
  },
  "language_info": {
   "codemirror_mode": {
    "name": "ipython",
    "version": 3
   },
   "file_extension": ".py",
   "mimetype": "text/x-python",
   "name": "python",
   "nbconvert_exporter": "python",
   "pygments_lexer": "ipython3",
   "version": "3.6.4"
  }
 },
 "nbformat": 4,
 "nbformat_minor": 2
}
