{
 "cells": [
  {
   "cell_type": "code",
   "execution_count": 1,
   "metadata": {},
   "outputs": [],
   "source": [
    "import pandas as pd\n",
    "import numpy as np\n",
    "import matplotlib.pyplot as plt\n",
    "\n",
    "data_dir = './data/'"
   ]
  },
  {
   "cell_type": "code",
   "execution_count": 2,
   "metadata": {},
   "outputs": [],
   "source": [
    "def matplot_bar(user_count):\n",
    "    data = user_count\n",
    "    name = range(user_count.shape[0])\n",
    "    \n",
    "    plt.bar(name, data)\n",
    "    plt.show"
   ]
  },
  {
   "cell_type": "code",
   "execution_count": 3,
   "metadata": {},
   "outputs": [],
   "source": [
    "file_name = 'original_set'\n",
    "\n",
    "drop_na_df = pd.read_pickle(data_dir + file_name)"
   ]
  },
  {
   "cell_type": "code",
   "execution_count": null,
   "metadata": {},
   "outputs": [],
   "source": [
    "column_list = drop_na_df.iloc[:,4:5].values.tolist()\n",
    "element_count = []\n",
    "\n",
    "for element_id in column_list:\n",
    "    element_count[element_id[0]] = element_count.get(element_id[0], 0) + 1\n",
    "element_count = []"
   ]
  },
  {
   "cell_type": "code",
   "execution_count": 4,
   "metadata": {},
   "outputs": [
    {
     "name": "stdout",
     "output_type": "stream",
     "text": [
      "[    0. 11950. 53429. ...     0.     0.     0.]\n"
     ]
    }
   ],
   "source": [
    "user_list = drop_na_df.iloc[:,4:5].values.tolist()\n",
    "user_count = {}\n",
    "\n",
    "for user_id in user_list:\n",
    "    user_count[int(user_id[0][5:])] = user_count[int(user_id[0][5:])] + 1\n",
    "print(user_count)"
   ]
  },
  {
   "cell_type": "code",
   "execution_count": 5,
   "metadata": {},
   "outputs": [
    {
     "data": {
      "image/png": "[encoded data removed]",
      "text/plain": [
       "<matplotlib.figure.Figure at 0x2c94a500588>"
      ]
     },
     "metadata": {},
     "output_type": "display_data"
    }
   ],
   "source": [
    "matplot_bar(user_count)"
   ]
  },
  {
   "cell_type": "code",
   "execution_count": null,
   "metadata": {},
   "outputs": [],
   "source": [
    "user_count_arg = np.zeros(1010)\n",
    "for user, count in enumerate(user_count):\n",
    "    if count > 25000:\n",
    "        user_count_arg[user] = count"
   ]
  },
  {
   "cell_type": "code",
   "execution_count": null,
   "metadata": {},
   "outputs": [],
   "source": [
    "matplot_bar(user_count_arg)"
   ]
  },
  {
   "cell_type": "code",
   "execution_count": null,
   "metadata": {},
   "outputs": [],
   "source": [
    "sum(user_count_arg)"
   ]
  }
 ],
 "metadata": {
  "kernelspec": {
   "display_name": "Python 3",
   "language": "python",
   "name": "python3"
  },
  "language_info": {
   "codemirror_mode": {
    "name": "ipython",
    "version": 3
   },
   "file_extension": ".py",
   "mimetype": "text/x-python",
   "name": "python",
   "nbconvert_exporter": "python",
   "pygments_lexer": "ipython3",
   "version": "3.6.4"
  }
 },
 "nbformat": 4,
 "nbformat_minor": 2
}
