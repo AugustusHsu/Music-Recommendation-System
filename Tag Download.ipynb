{
 "cells": [
  {
   "cell_type": "code",
   "execution_count": 1,
   "metadata": {},
   "outputs": [],
   "source": [
    "import requests\n",
    "import time\n",
    "import json\n",
    "\n",
    "API_KEY = 'c3ac6bf07c1c424328104056e80e08ee'\n",
    "ALL_TAG_URL = 'https://labrosa.ee.columbia.edu/millionsong/sites/default/files/lastfm/lastfm_unique_tags.txt'\n",
    "top_k = 3\n",
    "Tag_Dic = {}"
   ]
  },
  {
   "cell_type": "code",
   "execution_count": 148,
   "metadata": {},
   "outputs": [],
   "source": [
    "import time\n",
    "\n",
    "Tag_Dic = {}"
   ]
  },
  {
   "cell_type": "code",
   "execution_count": 125,
   "metadata": {},
   "outputs": [],
   "source": [
    "def Not_Enough_Tags(reqsjson):\n",
    "    print('Error! Not enough three tags at track_name: {} artist name: {}'.format(track_name, artist_name))\n",
    "    with open('Not Enough Tags.txt', 'a+') as f:\n",
    "        f.write('{} {}\\n'.format(track_name, artist_name))\n",
    "\n",
    "def Empty_Tags():\n",
    "    print('Error! ' + str(reqs) + ' at track_name: {} artist name: {}'.format(track_name, artist_name))\n",
    "    with open('Empty tags.txt', 'a+') as f:\n",
    "        f.write('{} {}\\n'.format(track_name, artist_name))"
   ]
  },
  {
   "cell_type": "code",
   "execution_count": 149,
   "metadata": {},
   "outputs": [],
   "source": [
    "def Search_Tag(track_name, artist_name):\n",
    "    track_str = track_name.replace(' ', '+')\n",
    "    artist_str = artist_name.replace(' ', '+')\n",
    "    \n",
    "    url = 'http://ws.audioscrobbler.com/2.0/?method=track.gettoptags&artist={}&track={}&api_key={}&format=json'\n",
    "    reqs = requests.get(url.format(track_str, artist_str, API_KEY))\n",
    "    reqsjson = json.loads(reqs.text)\n",
    "    \n",
    "    time.sleep(0.01)\n",
    "    \n",
    "    try:\n",
    "        if len(reqsjson['toptags']['tag']) > top_k:\n",
    "            for idx in range(top_k):\n",
    "                name = reqsjson['toptags']['tag'][idx]['name']\n",
    "                #print(name)\n",
    "                if not name in Tag_Dic.keys():\n",
    "                    Tag_Dic[name] = []\n",
    "                    Tag_Dic[name].append([track_name, artist_name])\n",
    "                else:\n",
    "                    if not [track_name, artist_name] in Tag_Dic[name]:\n",
    "                        Tag_Dic[name].append([track_name, artist_name])\n",
    "        else:\n",
    "            Not_Enough_Tags(reqsjson)\n",
    "\n",
    "    except:\n",
    "        Empty_Tags()"
   ]
  },
  {
   "cell_type": "code",
   "execution_count": 151,
   "metadata": {},
   "outputs": [
    {
     "name": "stdout",
     "output_type": "stream",
     "text": [
      "{'Masterpiece': [['x japan', 'art of life']], 'J-rock': [['x japan', 'art of life']], 'epic': [['x japan', 'art of life']]}\n"
     ]
    }
   ],
   "source": [
    "artist_name = 'x japan'\n",
    "track_name = 'art of life'\n",
    "Search_Tag(artist_name, track_name)\n",
    "\n",
    "print(Tag_Dic)"
   ]
  },
  {
   "cell_type": "code",
   "execution_count": null,
   "metadata": {},
   "outputs": [],
   "source": []
  }
 ],
 "metadata": {
  "kernelspec": {
   "display_name": "Python 3",
   "language": "python",
   "name": "python3"
  },
  "language_info": {
   "codemirror_mode": {
    "name": "ipython",
    "version": 3
   },
   "file_extension": ".py",
   "mimetype": "text/x-python",
   "name": "python",
   "nbconvert_exporter": "python",
   "pygments_lexer": "ipython3",
   "version": "3.6.4"
  }
 },
 "nbformat": 4,
 "nbformat_minor": 2
}
